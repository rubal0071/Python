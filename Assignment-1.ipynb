{
 "cells": [
  {
   "cell_type": "markdown",
   "id": "81f40817",
   "metadata": {},
   "source": [
    "#### 1. Create a tuple called data with two values, (1, 2) and (3, 4)"
   ]
  },
  {
   "cell_type": "code",
   "execution_count": 1,
   "id": "2d3a7311",
   "metadata": {},
   "outputs": [],
   "source": [
    "data = ((1,2),(3,4))"
   ]
  },
  {
   "cell_type": "code",
   "execution_count": 3,
   "id": "3efcfd53",
   "metadata": {},
   "outputs": [
    {
     "data": {
      "text/plain": [
       "tuple"
      ]
     },
     "execution_count": 3,
     "metadata": {},
     "output_type": "execute_result"
    }
   ],
   "source": [
    "type(data)"
   ]
  },
  {
   "cell_type": "markdown",
   "id": "3ce70d98",
   "metadata": {},
   "source": [
    "#### 2. Create the list [4, 3, 2, 1] and assign it to variable numbers."
   ]
  },
  {
   "cell_type": "code",
   "execution_count": 9,
   "id": "037af0b4",
   "metadata": {},
   "outputs": [
    {
     "data": {
      "text/plain": [
       "[4, 3, 2, 1]"
      ]
     },
     "execution_count": 9,
     "metadata": {},
     "output_type": "execute_result"
    }
   ],
   "source": [
    "sample_list=[4,3,2,1]\n",
    "sample_list"
   ]
  },
  {
   "cell_type": "markdown",
   "id": "a5c060fa",
   "metadata": {},
   "source": [
    "#### 3. Create a copy of the number list using [:]"
   ]
  },
  {
   "cell_type": "code",
   "execution_count": 10,
   "id": "afd3ebd5",
   "metadata": {},
   "outputs": [
    {
     "data": {
      "text/plain": [
       "[4, 3, 2, 1]"
      ]
     },
     "execution_count": 10,
     "metadata": {},
     "output_type": "execute_result"
    }
   ],
   "source": [
    "copy_list= sample_list[:]\n",
    "copy_list"
   ]
  },
  {
   "cell_type": "markdown",
   "id": "6fcde027",
   "metadata": {},
   "source": [
    "##### 4. Sort the numbers list in numerical order"
   ]
  },
  {
   "cell_type": "code",
   "execution_count": 14,
   "id": "31051b71",
   "metadata": {},
   "outputs": [
    {
     "data": {
      "text/plain": [
       "[1, 2, 3, 4]"
      ]
     },
     "execution_count": 14,
     "metadata": {},
     "output_type": "execute_result"
    }
   ],
   "source": [
    "sample_list.sort()\n",
    "sample_list"
   ]
  },
  {
   "cell_type": "markdown",
   "id": "7dc3da4a",
   "metadata": {},
   "source": [
    "##### 5. Create a tuple \"cardinal_numbers\" with \"first\", \"second\" and \"third\""
   ]
  },
  {
   "cell_type": "code",
   "execution_count": 19,
   "id": "f400826c",
   "metadata": {},
   "outputs": [],
   "source": [
    "cardinal_numbers = (\"first\",\"second\",\"third\")"
   ]
  },
  {
   "cell_type": "markdown",
   "id": "98e00540",
   "metadata": {},
   "source": [
    "#### 6. Display the second object in the tuple"
   ]
  },
  {
   "cell_type": "code",
   "execution_count": 24,
   "id": "cefb5705",
   "metadata": {},
   "outputs": [
    {
     "data": {
      "text/plain": [
       "'second'"
      ]
     },
     "execution_count": 24,
     "metadata": {},
     "output_type": "execute_result"
    }
   ],
   "source": [
    "cardinal_numbers[1]"
   ]
  },
  {
   "cell_type": "markdown",
   "id": "23f49baa",
   "metadata": {},
   "source": [
    "#### 7. Unpack the tuple into three strings and display them"
   ]
  },
  {
   "cell_type": "code",
   "execution_count": 27,
   "id": "1d24ebb5",
   "metadata": {},
   "outputs": [
    {
     "name": "stdout",
     "output_type": "stream",
     "text": [
      "first\n",
      "second\n",
      "third\n"
     ]
    }
   ],
   "source": [
    "for i in cardinal_numbers:\n",
    "    print(i)"
   ]
  },
  {
   "cell_type": "markdown",
   "id": "a6462e91",
   "metadata": {},
   "source": [
    "#### 8. Create a tuple containing the letters of your name from a string"
   ]
  },
  {
   "cell_type": "code",
   "execution_count": 28,
   "id": "87e5692a",
   "metadata": {},
   "outputs": [],
   "source": [
    "my_name=(\"R\",\"U\",\"B\",\"A\",\"L\")"
   ]
  },
  {
   "cell_type": "code",
   "execution_count": 29,
   "id": "73e07989",
   "metadata": {},
   "outputs": [
    {
     "data": {
      "text/plain": [
       "tuple"
      ]
     },
     "execution_count": 29,
     "metadata": {},
     "output_type": "execute_result"
    }
   ],
   "source": [
    "type(my_name)"
   ]
  },
  {
   "cell_type": "markdown",
   "id": "959825d8",
   "metadata": {},
   "source": [
    "##### 9. Check whether or not x is in my_name"
   ]
  },
  {
   "cell_type": "code",
   "execution_count": 31,
   "id": "e77c39a6",
   "metadata": {},
   "outputs": [
    {
     "data": {
      "text/plain": [
       "False"
      ]
     },
     "execution_count": 31,
     "metadata": {},
     "output_type": "execute_result"
    }
   ],
   "source": [
    "\"X\" in my_name"
   ]
  },
  {
   "cell_type": "markdown",
   "id": "398dbc13",
   "metadata": {},
   "source": [
    "##### 10. Check whether or not s is in my_name"
   ]
  },
  {
   "cell_type": "code",
   "execution_count": 32,
   "id": "c8243127",
   "metadata": {},
   "outputs": [
    {
     "data": {
      "text/plain": [
       "False"
      ]
     },
     "execution_count": 32,
     "metadata": {},
     "output_type": "execute_result"
    }
   ],
   "source": [
    "\"S\" in my_name"
   ]
  }
 ],
 "metadata": {
  "kernelspec": {
   "display_name": "Python 3 (ipykernel)",
   "language": "python",
   "name": "python3"
  },
  "language_info": {
   "codemirror_mode": {
    "name": "ipython",
    "version": 3
   },
   "file_extension": ".py",
   "mimetype": "text/x-python",
   "name": "python",
   "nbconvert_exporter": "python",
   "pygments_lexer": "ipython3",
   "version": "3.10.9"
  }
 },
 "nbformat": 4,
 "nbformat_minor": 5
}
