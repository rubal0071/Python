{
 "cells": [
  {
   "cell_type": "code",
   "execution_count": 92,
   "id": "2947b669",
   "metadata": {},
   "outputs": [],
   "source": [
    "def months():\n",
    "    print(\"\\nThe age in Months is: \" , (12*age))"
   ]
  },
  {
   "cell_type": "code",
   "execution_count": 93,
   "id": "3eeaa242",
   "metadata": {},
   "outputs": [],
   "source": [
    "def weeks():\n",
    "    additional_days=age+(age/4)\n",
    "    additional_weeks=additional_days/7\n",
    "    print(\"\\nThe age in weeks is: \", (round (((52*age)+additional_weeks),2)))"
   ]
  },
  {
   "cell_type": "code",
   "execution_count": 94,
   "id": "872d1ec1",
   "metadata": {},
   "outputs": [],
   "source": [
    "def days():\n",
    "    additional_days=(age/4)\n",
    "    print(\"\\nThe age in days is:\", (365*age)+(additional_days))"
   ]
  },
  {
   "cell_type": "code",
   "execution_count": 95,
   "id": "77f5f79f",
   "metadata": {},
   "outputs": [],
   "source": [
    "def hours():\n",
    "    additional_days=(age/4)\n",
    "    additional_hours=(age/4)*24\n",
    "    print(\"\\nThe age in hours is:\", (365*24*age)+(additional_hours))"
   ]
  },
  {
   "cell_type": "code",
   "execution_count": 96,
   "id": "36ae1403",
   "metadata": {},
   "outputs": [],
   "source": [
    "def minutes():\n",
    "    additional_days=(age/4)\n",
    "    additional_minutes=(age/4)*24*60\n",
    "    print(\"\\nThe age in minutes is:\", (365*24*60*age)+(additional_minutes))"
   ]
  },
  {
   "cell_type": "code",
   "execution_count": 97,
   "id": "cc59e271",
   "metadata": {},
   "outputs": [],
   "source": [
    "def seconds():\n",
    "    additional_days=(age/4)\n",
    "    additional_seconds=(age/4)*24*60*60\n",
    "    print(\"The age in seconds is:\", (365*24*60*60*age)+(additional_seconds))"
   ]
  },
  {
   "cell_type": "code",
   "execution_count": 99,
   "id": "8098e6a9",
   "metadata": {},
   "outputs": [
    {
     "name": "stdout",
     "output_type": "stream",
     "text": [
      "Please enter your age in years: 10\n",
      "Please enter the number to select the units in which you want to see your duration.\n",
      "                             \n",
      "1. Months \n",
      "2. Weeks \n",
      "3. Days \n",
      "4. Hours \n",
      "5. Minutes \n",
      "6. Seconds \n",
      "7. Exit\n",
      "2\n",
      "\n",
      "The age in weeks is:  521.79\n",
      "Please enter the number to select the units in which you want to see your duration.\n",
      "                             \n",
      "1. Months \n",
      "2. Weeks \n",
      "3. Days \n",
      "4. Hours \n",
      "5. Minutes \n",
      "6. Seconds \n",
      "7. Exit\n",
      "7\n",
      "\n",
      " You've been logged out\n"
     ]
    }
   ],
   "source": [
    "is_exit=True\n",
    "age=float(input(\"Please enter your age in years: \"))\n",
    "while is_exit is True:\n",
    "    duration_units=int(input(\"\"\"Please enter the number to select the units in which you want to see your duration.\n",
    "                             \\n1. Months \\n2. Weeks \\n3. Days \\n4. Hours \\n5. Minutes \\n6. Seconds \\n7. Exit\\n\"\"\"))\n",
    "    if duration_units==1:\n",
    "        months()\n",
    "    elif duration_units==2:\n",
    "        weeks()\n",
    "    elif duration_units==3:\n",
    "        days()\n",
    "    elif duration_units==4:\n",
    "        hours()\n",
    "    elif duration_units==5:\n",
    "        minutes()\n",
    "    elif duration_units==6:\n",
    "        seconds()\n",
    "    elif duration_units==7:\n",
    "        print(\"\\n You've been logged out\")\n",
    "        is_exit=False\n",
    "    else:\n",
    "        print(\"\\n Wrong input. Please select the correct option.\")"
   ]
  },
  {
   "cell_type": "code",
   "execution_count": null,
   "id": "6d246231",
   "metadata": {},
   "outputs": [],
   "source": []
  },
  {
   "cell_type": "code",
   "execution_count": null,
   "id": "7d42c627",
   "metadata": {},
   "outputs": [],
   "source": []
  }
 ],
 "metadata": {
  "kernelspec": {
   "display_name": "Python 3 (ipykernel)",
   "language": "python",
   "name": "python3"
  },
  "language_info": {
   "codemirror_mode": {
    "name": "ipython",
    "version": 3
   },
   "file_extension": ".py",
   "mimetype": "text/x-python",
   "name": "python",
   "nbconvert_exporter": "python",
   "pygments_lexer": "ipython3",
   "version": "3.10.9"
  }
 },
 "nbformat": 4,
 "nbformat_minor": 5
}
