{
 "cells": [
  {
   "cell_type": "code",
   "execution_count": 92,
   "id": "88ce9a3c",
   "metadata": {},
   "outputs": [],
   "source": [
    "def months():\n",
    "    print(\"\\nThe age in Months is: \" , (12*age))"
   ]
  },
  {
   "cell_type": "code",
   "execution_count": 93,
   "id": "1db5e546",
   "metadata": {},
   "outputs": [],
   "source": [
    "def weeks():\n",
    "    additional_days=age+(age/4)\n",
    "    additional_weeks=additional_days/7\n",
    "    print(\"\\nThe age in weeks is: \", (round (((52*age)+additional_weeks),2)))"
   ]
  },
  {
   "cell_type": "code",
   "execution_count": 94,
   "id": "b25bdf65",
   "metadata": {},
   "outputs": [],
   "source": [
    "def days():\n",
    "    additional_days=(age/4)\n",
    "    print(\"\\nThe age in days is:\", (365*age)+(additional_days))"
   ]
  },
  {
   "cell_type": "code",
   "execution_count": 95,
   "id": "2cca2e5e",
   "metadata": {},
   "outputs": [],
   "source": [
    "def hours():\n",
    "    additional_days=(age/4)\n",
    "    additional_hours=(age/4)*24\n",
    "    print(\"\\nThe age in hours is:\", (365*24*age)+(additional_hours))"
   ]
  },
  {
   "cell_type": "code",
   "execution_count": 96,
   "id": "010bafd9",
   "metadata": {},
   "outputs": [],
   "source": [
    "def minutes():\n",
    "    additional_days=(age/4)\n",
    "    additional_minutes=(age/4)*24*60\n",
    "    print(\"\\nThe age in minutes is:\", (365*24*60*age)+(additional_minutes))"
   ]
  },
  {
   "cell_type": "code",
   "execution_count": 97,
   "id": "167ba5bb",
   "metadata": {},
   "outputs": [],
   "source": [
    "def seconds():\n",
    "    additional_days=(age/4)\n",
    "    additional_seconds=(age/4)*24*60*60\n",
    "    print(\"The age in seconds is:\", (365*24*60*60*age)+(additional_seconds))"
   ]
  },
  {
   "cell_type": "code",
   "execution_count": 98,
   "id": "babef1b7",
   "metadata": {},
   "outputs": [
    {
     "name": "stdout",
     "output_type": "stream",
     "text": [
      "Please enter your age in years: 10\n",
      "Please enter the number to select the units in which you want to see your duration.\n",
      "                             \n",
      "1. Months \n",
      "2. Weeks \n",
      "3. Days \n",
      "4. Hours \n",
      "5. Minutes \n",
      "6. Seconds \n",
      "7. Exit\n",
      "4\n",
      "\n",
      "The age in hours is: 87660.0\n",
      "Please enter the number to select the units in which you want to see your duration.\n",
      "                             \n",
      "1. Months \n",
      "2. Weeks \n",
      "3. Days \n",
      "4. Hours \n",
      "5. Minutes \n",
      "6. Seconds \n",
      "7. Exit\n",
      "5\n",
      "\n",
      "The age in minutes is: 5259600.0\n",
      "Please enter the number to select the units in which you want to see your duration.\n",
      "                             \n",
      "1. Months \n",
      "2. Weeks \n",
      "3. Days \n",
      "4. Hours \n",
      "5. Minutes \n",
      "6. Seconds \n",
      "7. Exit\n",
      "6\n",
      "The age in seconds is: 315576000.0\n",
      "Please enter the number to select the units in which you want to see your duration.\n",
      "                             \n",
      "1. Months \n",
      "2. Weeks \n",
      "3. Days \n",
      "4. Hours \n",
      "5. Minutes \n",
      "6. Seconds \n",
      "7. Exit\n",
      "1\n",
      "\n",
      "The age in Months is:  120.0\n",
      "Please enter the number to select the units in which you want to see your duration.\n",
      "                             \n",
      "1. Months \n",
      "2. Weeks \n",
      "3. Days \n",
      "4. Hours \n",
      "5. Minutes \n",
      "6. Seconds \n",
      "7. Exit\n",
      "2\n",
      "\n",
      "The age in weeks is:  521.79\n",
      "Please enter the number to select the units in which you want to see your duration.\n",
      "                             \n",
      "1. Months \n",
      "2. Weeks \n",
      "3. Days \n",
      "4. Hours \n",
      "5. Minutes \n",
      "6. Seconds \n",
      "7. Exit\n",
      "\n"
     ]
    },
    {
     "ename": "ValueError",
     "evalue": "invalid literal for int() with base 10: ''",
     "output_type": "error",
     "traceback": [
      "\u001b[1;31m---------------------------------------------------------------------------\u001b[0m",
      "\u001b[1;31mValueError\u001b[0m                                Traceback (most recent call last)",
      "Cell \u001b[1;32mIn[98], line 4\u001b[0m\n\u001b[0;32m      2\u001b[0m age\u001b[38;5;241m=\u001b[39m\u001b[38;5;28mfloat\u001b[39m(\u001b[38;5;28minput\u001b[39m(\u001b[38;5;124m\"\u001b[39m\u001b[38;5;124mPlease enter your age in years: \u001b[39m\u001b[38;5;124m\"\u001b[39m))\n\u001b[0;32m      3\u001b[0m \u001b[38;5;28;01mwhile\u001b[39;00m is_exit \u001b[38;5;129;01mis\u001b[39;00m \u001b[38;5;28;01mTrue\u001b[39;00m:\n\u001b[1;32m----> 4\u001b[0m     duration_units\u001b[38;5;241m=\u001b[39m\u001b[38;5;28;43mint\u001b[39;49m\u001b[43m(\u001b[49m\u001b[38;5;28;43minput\u001b[39;49m\u001b[43m(\u001b[49m\u001b[38;5;124;43m\"\"\"\u001b[39;49m\u001b[38;5;124;43mPlease enter the number to select the units in which you want to see your duration.\u001b[39;49m\n\u001b[0;32m      5\u001b[0m \u001b[38;5;124;43m                             \u001b[39;49m\u001b[38;5;130;43;01m\\n\u001b[39;49;00m\u001b[38;5;124;43m1. Months \u001b[39;49m\u001b[38;5;130;43;01m\\n\u001b[39;49;00m\u001b[38;5;124;43m2. Weeks \u001b[39;49m\u001b[38;5;130;43;01m\\n\u001b[39;49;00m\u001b[38;5;124;43m3. Days \u001b[39;49m\u001b[38;5;130;43;01m\\n\u001b[39;49;00m\u001b[38;5;124;43m4. Hours \u001b[39;49m\u001b[38;5;130;43;01m\\n\u001b[39;49;00m\u001b[38;5;124;43m5. Minutes \u001b[39;49m\u001b[38;5;130;43;01m\\n\u001b[39;49;00m\u001b[38;5;124;43m6. Seconds \u001b[39;49m\u001b[38;5;130;43;01m\\n\u001b[39;49;00m\u001b[38;5;124;43m7. Exit\u001b[39;49m\u001b[38;5;130;43;01m\\n\u001b[39;49;00m\u001b[38;5;124;43m\"\"\"\u001b[39;49m\u001b[43m)\u001b[49m\u001b[43m)\u001b[49m\n\u001b[0;32m      6\u001b[0m     \u001b[38;5;28;01mif\u001b[39;00m duration_units\u001b[38;5;241m==\u001b[39m\u001b[38;5;241m1\u001b[39m:\n\u001b[0;32m      7\u001b[0m         months()\n",
      "\u001b[1;31mValueError\u001b[0m: invalid literal for int() with base 10: ''"
     ]
    }
   ],
   "source": [
    "is_exit=True\n",
    "age=float(input(\"Please enter your age in years: \"))\n",
    "while is_exit is True:\n",
    "    duration_units=int(input(\"\"\"Please enter the number to select the units in which you want to see your duration.\n",
    "                             \\n1. Months \\n2. Weeks \\n3. Days \\n4. Hours \\n5. Minutes \\n6. Seconds \\n7. Exit\\n\"\"\"))\n",
    "    if duration_units==1:\n",
    "        months()\n",
    "    elif duration_units==2:\n",
    "        weeks()\n",
    "    elif duration_units==3:\n",
    "        days()\n",
    "    elif duration_units==4:\n",
    "        hours()\n",
    "    elif duration_units==5:\n",
    "        minutes()\n",
    "    elif duration_units==6:\n",
    "        seconds()\n",
    "    elif duration_units==7:\n",
    "        print(\"\\n You've been logged out\")\n",
    "        is_exit=False\n",
    "    else:\n",
    "        print(\"\\n Wrong input. Please select the correct option.\")"
   ]
  },
  {
   "cell_type": "code",
   "execution_count": null,
   "id": "05370c56",
   "metadata": {},
   "outputs": [],
   "source": []
  },
  {
   "cell_type": "code",
   "execution_count": null,
   "id": "91adc312",
   "metadata": {},
   "outputs": [],
   "source": []
  }
 ],
 "metadata": {
  "kernelspec": {
   "display_name": "Python 3 (ipykernel)",
   "language": "python",
   "name": "python3"
  },
  "language_info": {
   "codemirror_mode": {
    "name": "ipython",
    "version": 3
   },
   "file_extension": ".py",
   "mimetype": "text/x-python",
   "name": "python",
   "nbconvert_exporter": "python",
   "pygments_lexer": "ipython3",
   "version": "3.10.9"
  }
 },
 "nbformat": 4,
 "nbformat_minor": 5
}
