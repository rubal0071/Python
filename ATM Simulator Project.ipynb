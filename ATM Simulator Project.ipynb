{
 "cells": [
  {
   "cell_type": "code",
   "execution_count": 12,
   "id": "22e8f3d5",
   "metadata": {},
   "outputs": [],
   "source": [
    "def check_balance():\n",
    "    global balance\n",
    "    print(\"Your account Balance is: \",balance)"
   ]
  },
  {
   "cell_type": "code",
   "execution_count": 21,
   "id": "5f7ec965",
   "metadata": {},
   "outputs": [],
   "source": [
    "def withdraw():\n",
    "    global balance\n",
    "    amount=int(input(\"Please enter the amount that you want to withdraw: \"))\n",
    "    if amount<=balance:\n",
    "        balance=balance-amount\n",
    "        print(\"Your updated account balance is: \", balance)\n",
    "    else:\n",
    "        print(\"You don't have sufficient balance in your account: \")"
   ]
  },
  {
   "cell_type": "code",
   "execution_count": 22,
   "id": "21f7c987",
   "metadata": {},
   "outputs": [],
   "source": [
    "def deposit():\n",
    "    global balance\n",
    "    amount=int(input(\"Please enter the amount that you want to deposit: \"))\n",
    "    balance=balance+amount\n",
    "    print(\"Your updated account balance is: \", balance)"
   ]
  },
  {
   "cell_type": "code",
   "execution_count": 15,
   "id": "a6d200e1",
   "metadata": {},
   "outputs": [],
   "source": [
    "def exit():\n",
    "    print(\"Thank you for banking with us\")"
   ]
  },
  {
   "cell_type": "code",
   "execution_count": 19,
   "id": "f7706639",
   "metadata": {},
   "outputs": [],
   "source": [
    "pin=7589\n",
    "balance=1000"
   ]
  },
  {
   "cell_type": "code",
   "execution_count": 31,
   "id": "d3e59897",
   "metadata": {},
   "outputs": [
    {
     "name": "stdout",
     "output_type": "stream",
     "text": [
      "Please enter the pin7589\n",
      "Please select one of these options: 1. Check Balance, 2. Withdraw, 3. Deposit, 4.Exit2\n",
      "Please enter the amount that you want to withdraw: 5000\n",
      "You don't have sufficient balance in your account: \n",
      "Please select one of these options: 1. Check Balance, 2. Withdraw, 3. Deposit, 4.Exit4\n",
      "Thank you for banking with us\n"
     ]
    }
   ],
   "source": [
    "quit=True\n",
    "ipin=int(input(\"Please enter the pin\"))\n",
    "if ipin==7589:\n",
    "    while quit is True:\n",
    "        option= int(input(\"Please select one of these options: 1. Check Balance, 2. Withdraw, 3. Deposit, 4.Exit\"))  \n",
    "        if option==1:\n",
    "            check_balance()\n",
    "        elif option==2:\n",
    "            withdraw()\n",
    "        elif option==3:\n",
    "            deposit()\n",
    "        elif option==4:\n",
    "            exit()\n",
    "            quit=False\n",
    "        else:\n",
    "            print(\"please select the correct option\")\n",
    "else:\n",
    "    print(\"You have entered the incorrect pin\")"
   ]
  },
  {
   "cell_type": "code",
   "execution_count": 17,
   "id": "5610e218",
   "metadata": {},
   "outputs": [
    {
     "data": {
      "text/plain": [
       "500"
      ]
     },
     "execution_count": 17,
     "metadata": {},
     "output_type": "execute_result"
    }
   ],
   "source": [
    "balance"
   ]
  },
  {
   "cell_type": "code",
   "execution_count": null,
   "id": "234d793c",
   "metadata": {},
   "outputs": [],
   "source": []
  }
 ],
 "metadata": {
  "kernelspec": {
   "display_name": "Python 3 (ipykernel)",
   "language": "python",
   "name": "python3"
  },
  "language_info": {
   "codemirror_mode": {
    "name": "ipython",
    "version": 3
   },
   "file_extension": ".py",
   "mimetype": "text/x-python",
   "name": "python",
   "nbconvert_exporter": "python",
   "pygments_lexer": "ipython3",
   "version": "3.10.9"
  }
 },
 "nbformat": 4,
 "nbformat_minor": 5
}
