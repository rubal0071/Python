{
 "cells": [
  {
   "cell_type": "code",
   "execution_count": 2,
   "id": "7322efd6",
   "metadata": {},
   "outputs": [
    {
     "name": "stdout",
     "output_type": "stream",
     "text": [
      "Hello World\n"
     ]
    }
   ],
   "source": [
    "print(\"Hello World\")"
   ]
  },
  {
   "cell_type": "code",
   "execution_count": 3,
   "id": "eb7f34b6",
   "metadata": {},
   "outputs": [
    {
     "name": "stdout",
     "output_type": "stream",
     "text": [
      "My name is Latha\n"
     ]
    }
   ],
   "source": [
    "print(\"My name is Latha\")"
   ]
  },
  {
   "cell_type": "markdown",
   "id": "8451591b",
   "metadata": {},
   "source": [
    "## print(\"Hello Sakshi\")"
   ]
  },
  {
   "cell_type": "code",
   "execution_count": null,
   "id": "b0b71d56",
   "metadata": {},
   "outputs": [],
   "source": []
  },
  {
   "cell_type": "code",
   "execution_count": null,
   "id": "194b343e",
   "metadata": {},
   "outputs": [],
   "source": []
  },
  {
   "cell_type": "markdown",
   "id": "eccf2993",
   "metadata": {},
   "source": [
    "# print(\"Hello Sakshi\")"
   ]
  },
  {
   "cell_type": "markdown",
   "id": "272ac2ab",
   "metadata": {},
   "source": [
    "##### print(\"Hello Sakshi\")"
   ]
  },
  {
   "cell_type": "markdown",
   "id": "222f1a3a",
   "metadata": {},
   "source": [
    "### hello hello"
   ]
  },
  {
   "cell_type": "markdown",
   "id": "20cec3e4",
   "metadata": {},
   "source": [
    "##sjfbsbjvbh"
   ]
  },
  {
   "cell_type": "markdown",
   "id": "e32cc8ce",
   "metadata": {},
   "source": [
    "##Hello Hello"
   ]
  },
  {
   "cell_type": "markdown",
   "id": "6cbe87a4",
   "metadata": {},
   "source": [
    "#####hello"
   ]
  },
  {
   "cell_type": "markdown",
   "id": "ecb45cf7",
   "metadata": {},
   "source": [
    "######hello"
   ]
  },
  {
   "cell_type": "markdown",
   "id": "fdc95635",
   "metadata": {},
   "source": [
    "#######Hello Hello"
   ]
  },
  {
   "cell_type": "markdown",
   "id": "3e691d2c",
   "metadata": {},
   "source": [
    "########sjfhsfkjbhfkj"
   ]
  },
  {
   "cell_type": "markdown",
   "id": "eaac7be8",
   "metadata": {},
   "source": [
    "## Variables"
   ]
  },
  {
   "cell_type": "code",
   "execution_count": 11,
   "id": "4ae8c4f2",
   "metadata": {},
   "outputs": [],
   "source": [
    "name = \"Rubal\", \"Sahil\""
   ]
  },
  {
   "cell_type": "code",
   "execution_count": 13,
   "id": "c02e2f88",
   "metadata": {},
   "outputs": [
    {
     "data": {
      "text/plain": [
       "tuple"
      ]
     },
     "execution_count": 13,
     "metadata": {},
     "output_type": "execute_result"
    }
   ],
   "source": [
    "type(name)"
   ]
  },
  {
   "cell_type": "markdown",
   "id": "d046e847",
   "metadata": {},
   "source": [
    " print(\"Hello Sakshi\")"
   ]
  },
  {
   "cell_type": "code",
   "execution_count": 16,
   "id": "91520eb3",
   "metadata": {},
   "outputs": [
    {
     "ename": "SyntaxError",
     "evalue": "invalid syntax (3624991053.py, line 1)",
     "output_type": "error",
     "traceback": [
      "\u001b[1;36m  Cell \u001b[1;32mIn[16], line 1\u001b[1;36m\u001b[0m\n\u001b[1;33m    name list = \"Rubal\", \"Sahil\"\u001b[0m\n\u001b[1;37m         ^\u001b[0m\n\u001b[1;31mSyntaxError\u001b[0m\u001b[1;31m:\u001b[0m invalid syntax\n"
     ]
    }
   ],
   "source": [
    "name list = \"Rubal\", \"Sahil\""
   ]
  },
  {
   "cell_type": "markdown",
   "id": "14f8df2c",
   "metadata": {},
   "source": [
    "## Space is not allowed"
   ]
  },
  {
   "cell_type": "code",
   "execution_count": 14,
   "id": "3c6438f6",
   "metadata": {},
   "outputs": [],
   "source": [
    "## Space is not allowed"
   ]
  },
  {
   "cell_type": "markdown",
   "id": "13662ac7",
   "metadata": {},
   "source": [
    "## Variable name should not start with number"
   ]
  },
  {
   "cell_type": "code",
   "execution_count": 17,
   "id": "45b7ecaf",
   "metadata": {},
   "outputs": [
    {
     "ename": "SyntaxError",
     "evalue": "invalid decimal literal (1926629624.py, line 1)",
     "output_type": "error",
     "traceback": [
      "\u001b[1;36m  Cell \u001b[1;32mIn[17], line 1\u001b[1;36m\u001b[0m\n\u001b[1;33m    2nameslist = \"Rubal\", \"Sahil\"\u001b[0m\n\u001b[1;37m    ^\u001b[0m\n\u001b[1;31mSyntaxError\u001b[0m\u001b[1;31m:\u001b[0m invalid decimal literal\n"
     ]
    }
   ],
   "source": [
    "2nameslist = \"Rubal\", \"Sahil\""
   ]
  },
  {
   "cell_type": "code",
   "execution_count": 18,
   "id": "d3a05905",
   "metadata": {},
   "outputs": [],
   "source": [
    "nameslist = \"Rubal\", \"Sahil\""
   ]
  },
  {
   "cell_type": "code",
   "execution_count": 19,
   "id": "eada7baf",
   "metadata": {},
   "outputs": [],
   "source": [
    "names2list = \"Rubal\", \"Sahil\""
   ]
  },
  {
   "cell_type": "code",
   "execution_count": 20,
   "id": "91cd0e03",
   "metadata": {},
   "outputs": [],
   "source": [
    "_name_list= \"Rubal\""
   ]
  },
  {
   "cell_type": "code",
   "execution_count": 21,
   "id": "c83266bb",
   "metadata": {},
   "outputs": [],
   "source": [
    "name_2_list=\"Rubal\""
   ]
  },
  {
   "cell_type": "markdown",
   "id": "5e29e92d",
   "metadata": {},
   "source": [
    "## Lists"
   ]
  },
  {
   "cell_type": "markdown",
   "id": "ec72449a",
   "metadata": {},
   "source": [
    "# Tuple"
   ]
  },
  {
   "cell_type": "markdown",
   "id": "fb0e8e54",
   "metadata": {},
   "source": [
    "##### 1) Container Object\n",
    "#### 2) Hetergenous -> Allows multiple data types\n",
    "#### 3) Can have duplicates\n",
    "#### 4) Immutable\n",
    "#### 5) Elements are sepearted by comma, enclosed in paranthesis or without any brackets"
   ]
  },
  {
   "cell_type": "code",
   "execution_count": 22,
   "id": "fd5770ae",
   "metadata": {},
   "outputs": [],
   "source": [
    "Sample_tuple = (1,6,2.3,\"hi\")"
   ]
  },
  {
   "cell_type": "code",
   "execution_count": 23,
   "id": "4ff61f0d",
   "metadata": {},
   "outputs": [],
   "source": [
    "sample_tuple2= 1,6,5,7.5,\"hi\""
   ]
  },
  {
   "cell_type": "code",
   "execution_count": 24,
   "id": "b9e3e836",
   "metadata": {},
   "outputs": [
    {
     "data": {
      "text/plain": [
       "tuple"
      ]
     },
     "execution_count": 24,
     "metadata": {},
     "output_type": "execute_result"
    }
   ],
   "source": [
    "type(sample_tuple2)"
   ]
  },
  {
   "cell_type": "code",
   "execution_count": 29,
   "id": "706a62bc",
   "metadata": {},
   "outputs": [
    {
     "data": {
      "text/plain": [
       "6"
      ]
     },
     "execution_count": 29,
     "metadata": {},
     "output_type": "execute_result"
    }
   ],
   "source": [
    "Sample_tuple[1]"
   ]
  },
  {
   "cell_type": "code",
   "execution_count": 30,
   "id": "b3468d8f",
   "metadata": {},
   "outputs": [
    {
     "ename": "IndexError",
     "evalue": "tuple index out of range",
     "output_type": "error",
     "traceback": [
      "\u001b[1;31m---------------------------------------------------------------------------\u001b[0m",
      "\u001b[1;31mIndexError\u001b[0m                                Traceback (most recent call last)",
      "Cell \u001b[1;32mIn[30], line 1\u001b[0m\n\u001b[1;32m----> 1\u001b[0m \u001b[43mSample_tuple\u001b[49m\u001b[43m[\u001b[49m\u001b[38;5;241;43m10\u001b[39;49m\u001b[43m]\u001b[49m\n",
      "\u001b[1;31mIndexError\u001b[0m: tuple index out of range"
     ]
    }
   ],
   "source": [
    "Sample_tuple[10]"
   ]
  },
  {
   "cell_type": "code",
   "execution_count": 31,
   "id": "9cbaddc2",
   "metadata": {},
   "outputs": [
    {
     "ename": "AttributeError",
     "evalue": "'tuple' object has no attribute 'sort'",
     "output_type": "error",
     "traceback": [
      "\u001b[1;31m---------------------------------------------------------------------------\u001b[0m",
      "\u001b[1;31mAttributeError\u001b[0m                            Traceback (most recent call last)",
      "Cell \u001b[1;32mIn[31], line 1\u001b[0m\n\u001b[1;32m----> 1\u001b[0m \u001b[43mSample_tuple\u001b[49m\u001b[38;5;241;43m.\u001b[39;49m\u001b[43msort\u001b[49m()\n",
      "\u001b[1;31mAttributeError\u001b[0m: 'tuple' object has no attribute 'sort'"
     ]
    }
   ],
   "source": [
    "Sample_tuple.sort()"
   ]
  },
  {
   "cell_type": "code",
   "execution_count": 33,
   "id": "c1055c5e",
   "metadata": {},
   "outputs": [
    {
     "ename": "TypeError",
     "evalue": "'<' not supported between instances of 'str' and 'float'",
     "output_type": "error",
     "traceback": [
      "\u001b[1;31m---------------------------------------------------------------------------\u001b[0m",
      "\u001b[1;31mTypeError\u001b[0m                                 Traceback (most recent call last)",
      "Cell \u001b[1;32mIn[33], line 1\u001b[0m\n\u001b[1;32m----> 1\u001b[0m \u001b[38;5;28;43msorted\u001b[39;49m\u001b[43m(\u001b[49m\u001b[43mSample_tuple\u001b[49m\u001b[43m)\u001b[49m\n",
      "\u001b[1;31mTypeError\u001b[0m: '<' not supported between instances of 'str' and 'float'"
     ]
    }
   ],
   "source": [
    "sorted(Sample_tuple)"
   ]
  },
  {
   "cell_type": "code",
   "execution_count": 34,
   "id": "9a255aa8",
   "metadata": {},
   "outputs": [],
   "source": [
    "Sample_tuple = (1,6,2.3,65)"
   ]
  },
  {
   "cell_type": "code",
   "execution_count": 35,
   "id": "079ac63f",
   "metadata": {},
   "outputs": [
    {
     "data": {
      "text/plain": [
       "[1, 2.3, 6, 65]"
      ]
     },
     "execution_count": 35,
     "metadata": {},
     "output_type": "execute_result"
    }
   ],
   "source": [
    "sorted(Sample_tuple)"
   ]
  },
  {
   "cell_type": "code",
   "execution_count": 38,
   "id": "41051e93",
   "metadata": {},
   "outputs": [
    {
     "data": {
      "text/plain": [
       "[65, 6, 2.3, 1]"
      ]
     },
     "execution_count": 38,
     "metadata": {},
     "output_type": "execute_result"
    }
   ],
   "source": [
    "sorted(Sample_tuple, reverse=True)"
   ]
  },
  {
   "cell_type": "code",
   "execution_count": 40,
   "id": "4fea48c5",
   "metadata": {},
   "outputs": [
    {
     "data": {
      "text/plain": [
       "(1, 6, 2.3, 65, 1, 6, 2.3, 65)"
      ]
     },
     "execution_count": 40,
     "metadata": {},
     "output_type": "execute_result"
    }
   ],
   "source": [
    "n=2\n",
    "rep_tuple= Sample_tuple*n\n",
    "rep_tuple"
   ]
  },
  {
   "cell_type": "code",
   "execution_count": 41,
   "id": "6b8bcb91",
   "metadata": {},
   "outputs": [
    {
     "data": {
      "text/plain": [
       "(2, 5, 67, 34, 5, 8, 12, 32, 12)"
      ]
     },
     "execution_count": 41,
     "metadata": {},
     "output_type": "execute_result"
    }
   ],
   "source": [
    "sample_tup1=(2,5,67,34)\n",
    "sample_tup2=(5,8,12,32,12,55)\n",
    "sam = sample_tup1+sample_tup2\n",
    "sam"
   ]
  },
  {
   "cell_type": "code",
   "execution_count": 42,
   "id": "c7d96e2c",
   "metadata": {},
   "outputs": [
    {
     "name": "stdout",
     "output_type": "stream",
     "text": [
      "True\n"
     ]
    }
   ],
   "source": [
    "print(2 in sample_tup1)"
   ]
  },
  {
   "cell_type": "code",
   "execution_count": 43,
   "id": "606a9f62",
   "metadata": {},
   "outputs": [
    {
     "name": "stdout",
     "output_type": "stream",
     "text": [
      "False\n"
     ]
    }
   ],
   "source": [
    "print(10 in sample_tup1)"
   ]
  },
  {
   "cell_type": "code",
   "execution_count": 44,
   "id": "9c321ab4",
   "metadata": {},
   "outputs": [
    {
     "name": "stdout",
     "output_type": "stream",
     "text": [
      "True\n"
     ]
    }
   ],
   "source": [
    "print(10 not in sample_tup1) ## membership operators"
   ]
  },
  {
   "cell_type": "code",
   "execution_count": 45,
   "id": "15e904ee",
   "metadata": {},
   "outputs": [
    {
     "name": "stdout",
     "output_type": "stream",
     "text": [
      "Python\n",
      "R\n",
      "Excel\n"
     ]
    }
   ],
   "source": [
    "Tools=[\"Python\", \"R\", \"Excel\"]\n",
    "for every_tool in Tools:\n",
    "    print(every_tool)"
   ]
  },
  {
   "cell_type": "code",
   "execution_count": 46,
   "id": "746b55f5",
   "metadata": {},
   "outputs": [
    {
     "data": {
      "text/plain": [
       "3"
      ]
     },
     "execution_count": 46,
     "metadata": {},
     "output_type": "execute_result"
    }
   ],
   "source": [
    "## How many elements are there in tools\n",
    "len(Tools)"
   ]
  },
  {
   "cell_type": "code",
   "execution_count": 47,
   "id": "e184e7a2",
   "metadata": {},
   "outputs": [
    {
     "data": {
      "text/plain": [
       "789"
      ]
     },
     "execution_count": 47,
     "metadata": {},
     "output_type": "execute_result"
    }
   ],
   "source": [
    "Prices =[100, 200,213,132,167,789]\n",
    "max(Prices)"
   ]
  },
  {
   "cell_type": "code",
   "execution_count": 48,
   "id": "30362726",
   "metadata": {},
   "outputs": [
    {
     "data": {
      "text/plain": [
       "100"
      ]
     },
     "execution_count": 48,
     "metadata": {},
     "output_type": "execute_result"
    }
   ],
   "source": [
    "min(Prices)"
   ]
  },
  {
   "cell_type": "code",
   "execution_count": 50,
   "id": "5e495ae6",
   "metadata": {},
   "outputs": [
    {
     "ename": "TypeError",
     "evalue": "'>' not supported between instances of 'str' and 'int'",
     "output_type": "error",
     "traceback": [
      "\u001b[1;31m---------------------------------------------------------------------------\u001b[0m",
      "\u001b[1;31mTypeError\u001b[0m                                 Traceback (most recent call last)",
      "Cell \u001b[1;32mIn[50], line 2\u001b[0m\n\u001b[0;32m      1\u001b[0m Prices \u001b[38;5;241m=\u001b[39m(\u001b[38;5;241m100\u001b[39m, \u001b[38;5;241m200\u001b[39m,\u001b[38;5;241m213\u001b[39m,\u001b[38;5;241m132\u001b[39m,\u001b[38;5;241m167\u001b[39m,\u001b[38;5;241m789\u001b[39m,\u001b[38;5;124m\"\u001b[39m\u001b[38;5;124mhi\u001b[39m\u001b[38;5;124m\"\u001b[39m)\n\u001b[1;32m----> 2\u001b[0m \u001b[38;5;28;43mmax\u001b[39;49m\u001b[43m(\u001b[49m\u001b[43mPrices\u001b[49m\u001b[43m)\u001b[49m\n",
      "\u001b[1;31mTypeError\u001b[0m: '>' not supported between instances of 'str' and 'int'"
     ]
    }
   ],
   "source": [
    "Prices =(100, 200,213,132,167,789,\"hi\")\n",
    "max(Prices)"
   ]
  },
  {
   "cell_type": "code",
   "execution_count": 51,
   "id": "788e06fa",
   "metadata": {},
   "outputs": [
    {
     "ename": "AttributeError",
     "evalue": "'tuple' object has no attribute 'append'",
     "output_type": "error",
     "traceback": [
      "\u001b[1;31m---------------------------------------------------------------------------\u001b[0m",
      "\u001b[1;31mAttributeError\u001b[0m                            Traceback (most recent call last)",
      "Cell \u001b[1;32mIn[51], line 1\u001b[0m\n\u001b[1;32m----> 1\u001b[0m \u001b[43mPrices\u001b[49m\u001b[38;5;241;43m.\u001b[39;49m\u001b[43mappend\u001b[49m(\u001b[38;5;241m50\u001b[39m)\n",
      "\u001b[1;31mAttributeError\u001b[0m: 'tuple' object has no attribute 'append'"
     ]
    }
   ],
   "source": [
    "Prices.append(50)"
   ]
  },
  {
   "cell_type": "code",
   "execution_count": 52,
   "id": "022b21b8",
   "metadata": {},
   "outputs": [
    {
     "data": {
      "text/plain": [
       "(100, 200, 213, 132, 167, 789, 'hi')"
      ]
     },
     "execution_count": 52,
     "metadata": {},
     "output_type": "execute_result"
    }
   ],
   "source": [
    "Prices"
   ]
  },
  {
   "cell_type": "code",
   "execution_count": 53,
   "id": "32488707",
   "metadata": {},
   "outputs": [
    {
     "ename": "AttributeError",
     "evalue": "'tuple' object has no attribute 'append'",
     "output_type": "error",
     "traceback": [
      "\u001b[1;31m---------------------------------------------------------------------------\u001b[0m",
      "\u001b[1;31mAttributeError\u001b[0m                            Traceback (most recent call last)",
      "Cell \u001b[1;32mIn[53], line 1\u001b[0m\n\u001b[1;32m----> 1\u001b[0m \u001b[43mPrices\u001b[49m\u001b[38;5;241;43m.\u001b[39;49m\u001b[43mappend\u001b[49m(\u001b[38;5;241m50\u001b[39m)\n",
      "\u001b[1;31mAttributeError\u001b[0m: 'tuple' object has no attribute 'append'"
     ]
    }
   ],
   "source": [
    "Prices.append(50)"
   ]
  },
  {
   "cell_type": "code",
   "execution_count": 54,
   "id": "db15a6ba",
   "metadata": {},
   "outputs": [
    {
     "ename": "AttributeError",
     "evalue": "'tuple' object has no attribute 'append'",
     "output_type": "error",
     "traceback": [
      "\u001b[1;31m---------------------------------------------------------------------------\u001b[0m",
      "\u001b[1;31mAttributeError\u001b[0m                            Traceback (most recent call last)",
      "Cell \u001b[1;32mIn[54], line 2\u001b[0m\n\u001b[0;32m      1\u001b[0m Prices\u001b[38;5;241m=\u001b[39m(\u001b[38;5;241m100\u001b[39m, \u001b[38;5;241m200\u001b[39m, \u001b[38;5;241m213\u001b[39m, \u001b[38;5;241m132\u001b[39m, \u001b[38;5;241m167\u001b[39m, \u001b[38;5;241m789\u001b[39m, [\u001b[38;5;241m1\u001b[39m,\u001b[38;5;241m2\u001b[39m,\u001b[38;5;241m3\u001b[39m])\n\u001b[1;32m----> 2\u001b[0m \u001b[43mPrices\u001b[49m\u001b[38;5;241;43m.\u001b[39;49m\u001b[43mappend\u001b[49m(\u001b[38;5;241m50\u001b[39m)\n",
      "\u001b[1;31mAttributeError\u001b[0m: 'tuple' object has no attribute 'append'"
     ]
    }
   ],
   "source": [
    "Prices=(100, 200, 213, 132, 167, 789, [1,2,3])\n",
    "Prices.append(50)"
   ]
  },
  {
   "cell_type": "code",
   "execution_count": 55,
   "id": "ac31300d",
   "metadata": {},
   "outputs": [],
   "source": [
    "Prices[6].append(50) "
   ]
  },
  {
   "cell_type": "code",
   "execution_count": 56,
   "id": "d2471f97",
   "metadata": {},
   "outputs": [
    {
     "data": {
      "text/plain": [
       "(100, 200, 213, 132, 167, 789, [1, 2, 3, 50])"
      ]
     },
     "execution_count": 56,
     "metadata": {},
     "output_type": "execute_result"
    }
   ],
   "source": [
    "Prices"
   ]
  },
  {
   "cell_type": "code",
   "execution_count": 57,
   "id": "52424ce7",
   "metadata": {},
   "outputs": [
    {
     "data": {
      "text/plain": [
       "(100, 200, 213)"
      ]
     },
     "execution_count": 57,
     "metadata": {},
     "output_type": "execute_result"
    }
   ],
   "source": [
    "Prices[0:3] ##0,1,2"
   ]
  },
  {
   "cell_type": "code",
   "execution_count": null,
   "id": "be56b753",
   "metadata": {},
   "outputs": [],
   "source": [
    "### Tuple property that is not discuused"
   ]
  },
  {
   "cell_type": "code",
   "execution_count": 58,
   "id": "55cc7acd",
   "metadata": {},
   "outputs": [
    {
     "data": {
      "text/plain": [
       "0"
      ]
     },
     "execution_count": 58,
     "metadata": {},
     "output_type": "execute_result"
    }
   ],
   "source": [
    "Prices.index(100)"
   ]
  },
  {
   "cell_type": "code",
   "execution_count": 59,
   "id": "8a6d8248",
   "metadata": {},
   "outputs": [
    {
     "data": {
      "text/plain": [
       "1"
      ]
     },
     "execution_count": 59,
     "metadata": {},
     "output_type": "execute_result"
    }
   ],
   "source": [
    "Prices.count(200)"
   ]
  },
  {
   "cell_type": "markdown",
   "id": "5cc4c9eb",
   "metadata": {},
   "source": [
    "### Dictionary"
   ]
  },
  {
   "cell_type": "markdown",
   "id": "2b6c393f",
   "metadata": {},
   "source": [
    "##### 1) Key-value pair\n",
    "##### 2) {}\n",
    "##### 3) Indexing - Square bracket\n",
    "##### 4) Mutable"
   ]
  },
  {
   "cell_type": "code",
   "execution_count": 60,
   "id": "30e82232",
   "metadata": {},
   "outputs": [
    {
     "data": {
      "text/plain": [
       "{'name': 'arun', 'hobbies': ['painting', 'singing'], 1: 23}"
      ]
     },
     "execution_count": 60,
     "metadata": {},
     "output_type": "execute_result"
    }
   ],
   "source": [
    "dict= {'name':\"arun\",\"hobbies\":[\"painting\", \"singing\"], 1:23}\n",
    "dict"
   ]
  },
  {
   "cell_type": "code",
   "execution_count": 61,
   "id": "6c900863",
   "metadata": {},
   "outputs": [
    {
     "ename": "NameError",
     "evalue": "name 'keys' is not defined",
     "output_type": "error",
     "traceback": [
      "\u001b[1;31m---------------------------------------------------------------------------\u001b[0m",
      "\u001b[1;31mNameError\u001b[0m                                 Traceback (most recent call last)",
      "Cell \u001b[1;32mIn[61], line 1\u001b[0m\n\u001b[1;32m----> 1\u001b[0m \u001b[38;5;28mdict\u001b[39m[\u001b[43mkeys\u001b[49m]\n",
      "\u001b[1;31mNameError\u001b[0m: name 'keys' is not defined"
     ]
    }
   ],
   "source": [
    "dict[keys]"
   ]
  },
  {
   "cell_type": "code",
   "execution_count": 62,
   "id": "8acf40a5",
   "metadata": {},
   "outputs": [
    {
     "data": {
      "text/plain": [
       "dict_keys(['name', 'hobbies', 1])"
      ]
     },
     "execution_count": 62,
     "metadata": {},
     "output_type": "execute_result"
    }
   ],
   "source": [
    "dict.keys()"
   ]
  },
  {
   "cell_type": "code",
   "execution_count": 63,
   "id": "8d15b177",
   "metadata": {},
   "outputs": [
    {
     "ename": "NameError",
     "evalue": "name 'values' is not defined",
     "output_type": "error",
     "traceback": [
      "\u001b[1;31m---------------------------------------------------------------------------\u001b[0m",
      "\u001b[1;31mNameError\u001b[0m                                 Traceback (most recent call last)",
      "Cell \u001b[1;32mIn[63], line 1\u001b[0m\n\u001b[1;32m----> 1\u001b[0m \u001b[38;5;28mdict\u001b[39m[\u001b[43mvalues\u001b[49m]\n",
      "\u001b[1;31mNameError\u001b[0m: name 'values' is not defined"
     ]
    }
   ],
   "source": [
    "dict[values]"
   ]
  },
  {
   "cell_type": "code",
   "execution_count": 64,
   "id": "1772b6bc",
   "metadata": {},
   "outputs": [
    {
     "data": {
      "text/plain": [
       "dict_values(['arun', ['painting', 'singing'], 23])"
      ]
     },
     "execution_count": 64,
     "metadata": {},
     "output_type": "execute_result"
    }
   ],
   "source": [
    "dict.values()"
   ]
  },
  {
   "cell_type": "code",
   "execution_count": 65,
   "id": "ec651171",
   "metadata": {},
   "outputs": [],
   "source": [
    "dict['name']=\"Mukund\""
   ]
  },
  {
   "cell_type": "code",
   "execution_count": 66,
   "id": "d9a95e93",
   "metadata": {},
   "outputs": [
    {
     "data": {
      "text/plain": [
       "{'name': 'Mukund', 'hobbies': ['painting', 'singing'], 1: 23}"
      ]
     },
     "execution_count": 66,
     "metadata": {},
     "output_type": "execute_result"
    }
   ],
   "source": [
    "dict"
   ]
  },
  {
   "cell_type": "code",
   "execution_count": 67,
   "id": "c6a7edc5",
   "metadata": {},
   "outputs": [],
   "source": [
    "del dict[\"name\"]"
   ]
  },
  {
   "cell_type": "code",
   "execution_count": 69,
   "id": "1959582d",
   "metadata": {},
   "outputs": [
    {
     "data": {
      "text/plain": [
       "{'hobbies': ['painting', 'singing'], 1: 23}"
      ]
     },
     "execution_count": 69,
     "metadata": {},
     "output_type": "execute_result"
    }
   ],
   "source": [
    "dict"
   ]
  },
  {
   "cell_type": "code",
   "execution_count": 74,
   "id": "f35ec3fc",
   "metadata": {},
   "outputs": [],
   "source": [
    "## Add a new key-value\n",
    "dict.update({\"name\":\"Rubal\"})"
   ]
  },
  {
   "cell_type": "code",
   "execution_count": 75,
   "id": "ac57ed13",
   "metadata": {},
   "outputs": [
    {
     "data": {
      "text/plain": [
       "3"
      ]
     },
     "execution_count": 75,
     "metadata": {},
     "output_type": "execute_result"
    }
   ],
   "source": [
    "len(dict)"
   ]
  },
  {
   "cell_type": "code",
   "execution_count": 76,
   "id": "e6207066",
   "metadata": {},
   "outputs": [
    {
     "data": {
      "text/plain": [
       "dict"
      ]
     },
     "execution_count": 76,
     "metadata": {},
     "output_type": "execute_result"
    }
   ],
   "source": [
    "type(dict)"
   ]
  },
  {
   "cell_type": "code",
   "execution_count": 77,
   "id": "3d842b16",
   "metadata": {},
   "outputs": [
    {
     "data": {
      "text/plain": [
       "dict_items([('hobbies', ['painting', 'singing']), (1, 23), ('name', 'Rubal')])"
      ]
     },
     "execution_count": 77,
     "metadata": {},
     "output_type": "execute_result"
    }
   ],
   "source": [
    "dict.items()"
   ]
  },
  {
   "cell_type": "code",
   "execution_count": 78,
   "id": "a9af3962",
   "metadata": {},
   "outputs": [
    {
     "data": {
      "text/plain": [
       "['painting', 'singing']"
      ]
     },
     "execution_count": 78,
     "metadata": {},
     "output_type": "execute_result"
    }
   ],
   "source": [
    "dict.get(\"hobbies\")"
   ]
  },
  {
   "cell_type": "code",
   "execution_count": 79,
   "id": "69628e26",
   "metadata": {},
   "outputs": [],
   "source": [
    "dict.update({\"class\":\"ds\"})"
   ]
  },
  {
   "cell_type": "code",
   "execution_count": 80,
   "id": "a58c2fa4",
   "metadata": {},
   "outputs": [
    {
     "data": {
      "text/plain": [
       "'ds'"
      ]
     },
     "execution_count": 80,
     "metadata": {},
     "output_type": "execute_result"
    }
   ],
   "source": [
    "dict.get(\"class\")"
   ]
  },
  {
   "cell_type": "code",
   "execution_count": null,
   "id": "8ba44934",
   "metadata": {},
   "outputs": [],
   "source": [
    "#### Sets\n",
    "### 1) Don't allow duplicates"
   ]
  },
  {
   "cell_type": "code",
   "execution_count": 83,
   "id": "61f04aa6",
   "metadata": {},
   "outputs": [],
   "source": [
    "\n",
    "sample_set={1,2,3,4,5,6,1,13.4,9.6,\"hi\",\"hello\"}"
   ]
  },
  {
   "cell_type": "code",
   "execution_count": 82,
   "id": "54be1e5b",
   "metadata": {},
   "outputs": [
    {
     "data": {
      "text/plain": [
       "{1, 13.4, 2, 3, 4, 5, 6, 9.6, 'hello', 'hi'}"
      ]
     },
     "execution_count": 82,
     "metadata": {},
     "output_type": "execute_result"
    }
   ],
   "source": [
    "sample_set"
   ]
  },
  {
   "cell_type": "code",
   "execution_count": 84,
   "id": "abd921ff",
   "metadata": {},
   "outputs": [
    {
     "data": {
      "text/plain": [
       "{1, 13.4, 2, 3, 4, 5, 6, 9.6, 'hello', 'hi'}"
      ]
     },
     "execution_count": 84,
     "metadata": {},
     "output_type": "execute_result"
    }
   ],
   "source": [
    "sample_set"
   ]
  },
  {
   "cell_type": "code",
   "execution_count": 85,
   "id": "3f1fc4a2",
   "metadata": {},
   "outputs": [
    {
     "data": {
      "text/plain": [
       "{1, 13.4, 2, 3, 4, 5, 6, 9.6, 'hello', 'hi'}"
      ]
     },
     "execution_count": 85,
     "metadata": {},
     "output_type": "execute_result"
    }
   ],
   "source": [
    "sample_set"
   ]
  },
  {
   "cell_type": "code",
   "execution_count": 86,
   "id": "8eb3b5bc",
   "metadata": {},
   "outputs": [],
   "source": [
    "sample_set={1,2,3,4,5,6,1,13.4,9.6,\"hi\",\"hello\",11.5,-1,23.5}"
   ]
  },
  {
   "cell_type": "code",
   "execution_count": 87,
   "id": "34b238a1",
   "metadata": {},
   "outputs": [
    {
     "data": {
      "text/plain": [
       "{-1, 1, 11.5, 13.4, 2, 23.5, 3, 4, 5, 6, 9.6, 'hello', 'hi'}"
      ]
     },
     "execution_count": 87,
     "metadata": {},
     "output_type": "execute_result"
    }
   ],
   "source": [
    "sample_set ## It is getting ordered according to first value"
   ]
  },
  {
   "cell_type": "code",
   "execution_count": 88,
   "id": "87693993",
   "metadata": {},
   "outputs": [
    {
     "ename": "TypeError",
     "evalue": "'set' object is not subscriptable",
     "output_type": "error",
     "traceback": [
      "\u001b[1;31m---------------------------------------------------------------------------\u001b[0m",
      "\u001b[1;31mTypeError\u001b[0m                                 Traceback (most recent call last)",
      "Cell \u001b[1;32mIn[88], line 1\u001b[0m\n\u001b[1;32m----> 1\u001b[0m \u001b[43msample_set\u001b[49m\u001b[43m[\u001b[49m\u001b[38;5;241;43m0\u001b[39;49m\u001b[43m]\u001b[49m\n",
      "\u001b[1;31mTypeError\u001b[0m: 'set' object is not subscriptable"
     ]
    }
   ],
   "source": [
    "sample_set[0]"
   ]
  },
  {
   "cell_type": "code",
   "execution_count": 89,
   "id": "a0bc6bb5",
   "metadata": {},
   "outputs": [],
   "source": [
    "sample_set.add(100)"
   ]
  },
  {
   "cell_type": "code",
   "execution_count": 90,
   "id": "1660594d",
   "metadata": {},
   "outputs": [
    {
     "data": {
      "text/plain": [
       "{-1, 1, 100, 11.5, 13.4, 2, 23.5, 3, 4, 5, 6, 9.6, 'hello', 'hi'}"
      ]
     },
     "execution_count": 90,
     "metadata": {},
     "output_type": "execute_result"
    }
   ],
   "source": [
    "sample_set"
   ]
  },
  {
   "cell_type": "code",
   "execution_count": 91,
   "id": "e307bf8e",
   "metadata": {},
   "outputs": [],
   "source": [
    "sample_set.remove(-1)"
   ]
  },
  {
   "cell_type": "code",
   "execution_count": 92,
   "id": "5f8de914",
   "metadata": {},
   "outputs": [
    {
     "data": {
      "text/plain": [
       "{1, 100, 11.5, 13.4, 2, 23.5, 3, 4, 5, 6, 9.6, 'hello', 'hi'}"
      ]
     },
     "execution_count": 92,
     "metadata": {},
     "output_type": "execute_result"
    }
   ],
   "source": [
    "sample_set"
   ]
  },
  {
   "cell_type": "markdown",
   "id": "1ff1bd07",
   "metadata": {},
   "source": [
    "#### Set dows not allow duplicates\n",
    "#### We cannot retrive the set using index\n",
    "#### Set is mutable\n",
    "#### Set has {}\n",
    "#### Ordered according to first-place digit"
   ]
  },
  {
   "cell_type": "code",
   "execution_count": 94,
   "id": "f248b22a",
   "metadata": {},
   "outputs": [],
   "source": [
    "sample_set = {1, 100, 11.5, 13.4, 2, 23.5, 3, 4, 5, 6, 9.6}"
   ]
  },
  {
   "cell_type": "code",
   "execution_count": 96,
   "id": "96897af2",
   "metadata": {},
   "outputs": [
    {
     "data": {
      "text/plain": [
       "[100, 23.5, 13.4, 11.5, 9.6, 6, 5, 4, 3, 2, 1]"
      ]
     },
     "execution_count": 96,
     "metadata": {},
     "output_type": "execute_result"
    }
   ],
   "source": [
    "sorted(sample_set, reverse=True)"
   ]
  },
  {
   "cell_type": "code",
   "execution_count": 102,
   "id": "014a7dde",
   "metadata": {},
   "outputs": [
    {
     "name": "stdout",
     "output_type": "stream",
     "text": [
      "Addition is 55\n"
     ]
    }
   ],
   "source": [
    "num=10\n",
    "i=1\n",
    "addition=0\n",
    "\n",
    "while(i<=num):\n",
    "    addition=addition+i\n",
    "    i=i+1\n",
    "    \n",
    "print(\"Addition is\",addition)"
   ]
  },
  {
   "cell_type": "code",
   "execution_count": 106,
   "id": "6a5673ce",
   "metadata": {},
   "outputs": [
    {
     "name": "stdout",
     "output_type": "stream",
     "text": [
      "Addition is 55\n"
     ]
    }
   ],
   "source": [
    "num=range(1,11)\n",
    "addition=0\n",
    "for i in num:\n",
    "    addition=addition+i\n",
    "    \n",
    "print(\"Addition is\",addition)"
   ]
  },
  {
   "cell_type": "code",
   "execution_count": 107,
   "id": "659a8a44",
   "metadata": {},
   "outputs": [
    {
     "name": "stdout",
     "output_type": "stream",
     "text": [
      "K\n",
      "n\n",
      "o\n",
      "w\n",
      "l\n",
      "e\n",
      "d\n",
      "g\n",
      "e\n",
      "The for loop stopped executing\n"
     ]
    }
   ],
   "source": [
    "text=\"Knowledge\"\n",
    "for letter in text:\n",
    "    if letter==\"h\":\n",
    "        break\n",
    "    print(letter)\n",
    "print(\"The for loop stopped executing\")"
   ]
  },
  {
   "cell_type": "code",
   "execution_count": 109,
   "id": "9644b4e2",
   "metadata": {},
   "outputs": [
    {
     "name": "stdout",
     "output_type": "stream",
     "text": [
      "R\n",
      "u\n",
      "b\n",
      "a\n",
      "l\n",
      "The loop skipped space\n",
      "B\n",
      "a\n",
      "n\n",
      "s\n",
      "a\n",
      "l\n"
     ]
    }
   ],
   "source": [
    "text=\"Rubal Bansal\"\n",
    "for letter in text:\n",
    "    if letter==\" \":\n",
    "        print(\"The loop skipped space\")\n",
    "        continue\n",
    "    print(letter)"
   ]
  },
  {
   "cell_type": "code",
   "execution_count": 110,
   "id": "8e650ef8",
   "metadata": {},
   "outputs": [
    {
     "name": "stdout",
     "output_type": "stream",
     "text": [
      "Enter number of levels:5\n",
      "1 \n",
      "\n",
      "2 2 \n",
      "\n",
      "3 3 3 \n",
      "\n",
      "4 4 4 4 \n",
      "\n",
      "5 5 5 5 5 \n",
      "\n"
     ]
    }
   ],
   "source": [
    "levels=int(input(\"Enter number of levels:\"))\n",
    "for level in range(1, levels+1):\n",
    "    for num in range(level):\n",
    "        print(level,end=\" \")\n",
    "        \n",
    "    print(\"\\n\")"
   ]
  },
  {
   "cell_type": "code",
   "execution_count": 1,
   "id": "56ada080",
   "metadata": {},
   "outputs": [
    {
     "name": "stdout",
     "output_type": "stream",
     "text": [
      "Enter number of levels:5\n",
      "1 \n",
      "\n",
      "2 2 \n",
      "\n",
      "3 3 3 \n",
      "\n",
      "4 4 4 4 \n",
      "\n",
      "5 5 5 5 5 \n",
      "\n"
     ]
    }
   ],
   "source": [
    "levels=int(input(\"Enter number of levels:\"))\n",
    "for level in range(1, levels+1):\n",
    "    for num in range(level):\n",
    "        print(level,end=\" \")\n",
    "        \n",
    "    print(\"\\n\")"
   ]
  },
  {
   "cell_type": "code",
   "execution_count": 114,
   "id": "d6b39633",
   "metadata": {},
   "outputs": [
    {
     "name": "stdout",
     "output_type": "stream",
     "text": [
      "Enter number of levels:5\n",
      "* \n",
      "\n",
      "* * \n",
      "\n",
      "* * * \n",
      "\n",
      "* * * * \n",
      "\n",
      "* * * * * \n",
      "\n"
     ]
    }
   ],
   "source": [
    "levels=int(input(\"Enter number of levels:\"))\n",
    "for level in range(1, levels+1):\n",
    "    for num in range(level):\n",
    "        print(\"*\",end=\" \")\n",
    "        \n",
    "    print(\"\\n\")"
   ]
  },
  {
   "cell_type": "code",
   "execution_count": 2,
   "id": "09d17709",
   "metadata": {},
   "outputs": [
    {
     "name": "stdout",
     "output_type": "stream",
     "text": [
      "Sahil\n"
     ]
    }
   ],
   "source": [
    "name= \"Rubal\"\n",
    "name=\"Sahil\"\n",
    "print(name)"
   ]
  },
  {
   "cell_type": "code",
   "execution_count": 5,
   "id": "76c836a3",
   "metadata": {},
   "outputs": [
    {
     "name": "stdout",
     "output_type": "stream",
     "text": [
      "10\n"
     ]
    }
   ],
   "source": [
    "x=y=z=10\n",
    "print(z)"
   ]
  },
  {
   "cell_type": "code",
   "execution_count": 6,
   "id": "ed818775",
   "metadata": {},
   "outputs": [
    {
     "name": "stdout",
     "output_type": "stream",
     "text": [
      "1\n",
      "2\n",
      "3\n"
     ]
    }
   ],
   "source": [
    "x,y,z=1,2,3\n",
    "print(x)\n",
    "print(y)\n",
    "print(z)"
   ]
  },
  {
   "cell_type": "raw",
   "id": "c7681b7b",
   "metadata": {},
   "source": [
    "y=true\n",
    "print(y)"
   ]
  },
  {
   "cell_type": "markdown",
   "id": "43ff794d",
   "metadata": {},
   "source": [
    "### Python is case sensitive"
   ]
  },
  {
   "cell_type": "code",
   "execution_count": 7,
   "id": "9c496207",
   "metadata": {},
   "outputs": [
    {
     "data": {
      "text/plain": [
       "str"
      ]
     },
     "execution_count": 7,
     "metadata": {},
     "output_type": "execute_result"
    }
   ],
   "source": [
    "y=\"True\"\n",
    "type(y)"
   ]
  },
  {
   "cell_type": "markdown",
   "id": "3bbc826a",
   "metadata": {},
   "source": [
    "### Implicit conversion - data type is converted automatically by Python without user's intervention"
   ]
  },
  {
   "cell_type": "code",
   "execution_count": 8,
   "id": "f7b9c1f5",
   "metadata": {},
   "outputs": [
    {
     "data": {
      "text/plain": [
       "5.0"
      ]
     },
     "execution_count": 8,
     "metadata": {},
     "output_type": "execute_result"
    }
   ],
   "source": [
    "x=10\n",
    "y=2\n",
    "x/y ## output is float data type. This is implicit conversion"
   ]
  },
  {
   "cell_type": "code",
   "execution_count": 10,
   "id": "b9dd81d2",
   "metadata": {},
   "outputs": [
    {
     "data": {
      "text/plain": [
       "20.5"
      ]
     },
     "execution_count": 10,
     "metadata": {},
     "output_type": "execute_result"
    }
   ],
   "source": [
    "x=10.5\n",
    "y=\"10\"\n",
    "x+int(y) ### Explicit conversion as data type is converetd by programmer"
   ]
  },
  {
   "cell_type": "code",
   "execution_count": 11,
   "id": "a593a49a",
   "metadata": {},
   "outputs": [
    {
     "data": {
      "text/plain": [
       "10.0"
      ]
     },
     "execution_count": 11,
     "metadata": {},
     "output_type": "execute_result"
    }
   ],
   "source": [
    "x=10\n",
    "float(x) ## integer to float"
   ]
  },
  {
   "cell_type": "code",
   "execution_count": 14,
   "id": "4ed62722",
   "metadata": {},
   "outputs": [],
   "source": [
    "x=10\n",
    "x=str(x)"
   ]
  },
  {
   "cell_type": "code",
   "execution_count": 15,
   "id": "f5dacdb4",
   "metadata": {},
   "outputs": [
    {
     "data": {
      "text/plain": [
       "str"
      ]
     },
     "execution_count": 15,
     "metadata": {},
     "output_type": "execute_result"
    }
   ],
   "source": [
    "type(x)"
   ]
  },
  {
   "cell_type": "code",
   "execution_count": 16,
   "id": "12a9bcc9",
   "metadata": {},
   "outputs": [
    {
     "name": "stdout",
     "output_type": "stream",
     "text": [
      "10\n"
     ]
    }
   ],
   "source": [
    "x=10.0\n",
    "print(int(x))"
   ]
  },
  {
   "cell_type": "code",
   "execution_count": 19,
   "id": "d55ab45e",
   "metadata": {},
   "outputs": [
    {
     "data": {
      "text/plain": [
       "'10.0'"
      ]
     },
     "execution_count": 19,
     "metadata": {},
     "output_type": "execute_result"
    }
   ],
   "source": [
    "x=10.0\n",
    "str(x)  ### Float is not getting converted into string"
   ]
  },
  {
   "cell_type": "code",
   "execution_count": 18,
   "id": "f100bb4a",
   "metadata": {},
   "outputs": [
    {
     "name": "stdout",
     "output_type": "stream",
     "text": [
      "10\n"
     ]
    }
   ],
   "source": [
    "x=\"10\"\n",
    "print(str(10))"
   ]
  },
  {
   "cell_type": "code",
   "execution_count": null,
   "id": "6b3e5bd0",
   "metadata": {},
   "outputs": [],
   "source": []
  }
 ],
 "metadata": {
  "kernelspec": {
   "display_name": "Python 3 (ipykernel)",
   "language": "python",
   "name": "python3"
  },
  "language_info": {
   "codemirror_mode": {
    "name": "ipython",
    "version": 3
   },
   "file_extension": ".py",
   "mimetype": "text/x-python",
   "name": "python",
   "nbconvert_exporter": "python",
   "pygments_lexer": "ipython3",
   "version": "3.10.9"
  }
 },
 "nbformat": 4,
 "nbformat_minor": 5
}
